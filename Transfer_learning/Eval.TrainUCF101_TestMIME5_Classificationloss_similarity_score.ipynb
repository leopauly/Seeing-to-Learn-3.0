{
 "cells": [
  {
   "cell_type": "markdown",
   "metadata": {},
   "source": [
    "#### Description"
   ]
  },
  {
   "cell_type": "code",
   "execution_count": 106,
   "metadata": {},
   "outputs": [
    {
     "name": "stdout",
     "output_type": "stream",
     "text": [
      "Author : @leopauly\n",
      "Program: Testing pre-trined feature extractors on manipulation dataset\n"
     ]
    }
   ],
   "source": [
    "print('Author : @leopauly')\n",
    "print('Program: Testing pre-trined feature extractors on manipulation dataset')"
   ]
  },
  {
   "cell_type": "markdown",
   "metadata": {},
   "source": [
    "#### Imports"
   ]
  },
  {
   "cell_type": "code",
   "execution_count": 7,
   "metadata": {},
   "outputs": [],
   "source": [
    "import os\n",
    "from six.moves import xrange \n",
    "import PIL.Image as Image\n",
    "import random\n",
    "import numpy as np\n",
    "import cv2\n",
    "import h5py\n",
    "import time\n",
    "import math\n",
    "import matplotlib.pyplot as plt\n",
    "import tensorflow as tf\n",
    "from keras import backend as K\n",
    "from sklearn.decomposition import PCA\n",
    "from sklearn.manifold import TSNE\n",
    "from skimage import io\n",
    "from sklearn import metrics\n",
    "from sklearn.cluster import KMeans\n",
    "from sklearn.metrics.pairwise import cosine_similarity\n",
    "\n",
    "# Custom scripts\n",
    "import lscript as lsp\n",
    "import modelling as md"
   ]
  },
  {
   "cell_type": "code",
   "execution_count": 2,
   "metadata": {
    "collapsed": true
   },
   "outputs": [],
   "source": [
    "feature_size=8192\n",
    "num_videos_per_class_test=100\n",
    "num_class_test=5"
   ]
  },
  {
   "cell_type": "markdown",
   "metadata": {},
   "source": [
    "#### Evaluation: Similarity scores"
   ]
  },
  {
   "cell_type": "code",
   "execution_count": 35,
   "metadata": {
    "collapsed": true
   },
   "outputs": [],
   "source": [
    "## Reading test data: Features\n",
    "\n",
    "hf = h5py.File('/nobackup/leopauly/S2l3.0/Features_Storage/feature_trainUCF101_testmime5_conv5.h5', 'r')\n",
    "feature_set_a=np.array(hf.get('feature_set_a'))\n",
    "feature_set_b=np.array(hf.get('feature_set_b'))\n",
    "feature_set_c=np.array(hf.get('feature_set_c'))\n",
    "feature_set_d=np.array(hf.get('feature_set_d'))\n",
    "feature_set_e=np.array(hf.get('feature_set_e'))\n"
   ]
  },
  {
   "cell_type": "code",
   "execution_count": 36,
   "metadata": {},
   "outputs": [
    {
     "name": "stdout",
     "output_type": "stream",
     "text": [
      "Feature sizes:\n",
      "(1164, 8192)\n",
      "(2028, 8192)\n",
      "(1960, 8192)\n",
      "(2132, 8192)\n",
      "(1480, 8192)\n"
     ]
    }
   ],
   "source": [
    "print('Feature sizes:')\n",
    "print(feature_set_a.shape)\n",
    "print(feature_set_b.shape)\n",
    "print(feature_set_c.shape)\n",
    "print(feature_set_d.shape)\n",
    "print(feature_set_e.shape)"
   ]
  },
  {
   "cell_type": "code",
   "execution_count": 44,
   "metadata": {
    "scrolled": false
   },
   "outputs": [
    {
     "name": "stdout",
     "output_type": "stream",
     "text": [
      "0.598028\n",
      "0.588852\n",
      "0.600882\n",
      "0.61166\n",
      "0.605233\n"
     ]
    }
   ],
   "source": [
    "print((np.mean(cosine_similarity(feature_set_a))))\n",
    "print((np.mean(cosine_similarity(feature_set_a,feature_set_b))))\n",
    "print((np.mean(cosine_similarity(feature_set_a,feature_set_c))))\n",
    "print((np.mean(cosine_similarity(feature_set_a,feature_set_d))))\n",
    "print((np.mean(cosine_similarity(feature_set_a,feature_set_e))))"
   ]
  },
  {
   "cell_type": "code",
   "execution_count": 45,
   "metadata": {},
   "outputs": [
    {
     "name": "stdout",
     "output_type": "stream",
     "text": [
      "0.588852\n",
      "0.600779\n",
      "0.586614\n",
      "0.602968\n",
      "0.603227\n"
     ]
    }
   ],
   "source": [
    "print((np.mean(cosine_similarity(feature_set_b,feature_set_a))))\n",
    "print((np.mean(cosine_similarity(feature_set_b))))\n",
    "print((np.mean(cosine_similarity(feature_set_b,feature_set_c))))\n",
    "print((np.mean(cosine_similarity(feature_set_b,feature_set_d))))\n",
    "print((np.mean(cosine_similarity(feature_set_b,feature_set_e))))"
   ]
  },
  {
   "cell_type": "code",
   "execution_count": 39,
   "metadata": {},
   "outputs": [
    {
     "name": "stdout",
     "output_type": "stream",
     "text": [
      "0.600882\n",
      "0.586614\n",
      "0.627674\n",
      "0.614235\n",
      "0.610897\n"
     ]
    }
   ],
   "source": [
    "print((np.mean(cosine_similarity(feature_set_c,feature_set_a))))\n",
    "print((np.mean(cosine_similarity(feature_set_c,feature_set_b))))\n",
    "print((np.mean(cosine_similarity(feature_set_c))))\n",
    "print((np.mean(cosine_similarity(feature_set_c,feature_set_d))))\n",
    "print((np.mean(cosine_similarity(feature_set_c,feature_set_e))))"
   ]
  },
  {
   "cell_type": "code",
   "execution_count": 40,
   "metadata": {},
   "outputs": [
    {
     "name": "stdout",
     "output_type": "stream",
     "text": [
      "0.61166\n",
      "0.602968\n",
      "0.614235\n",
      "0.640447\n",
      "0.622885\n"
     ]
    }
   ],
   "source": [
    "print((np.mean(cosine_similarity(feature_set_d,feature_set_a))))\n",
    "print((np.mean(cosine_similarity(feature_set_d,feature_set_b))))\n",
    "print((np.mean(cosine_similarity(feature_set_d,feature_set_c))))\n",
    "print((np.mean(cosine_similarity(feature_set_d))))\n",
    "print((np.mean(cosine_similarity(feature_set_d,feature_set_e))))"
   ]
  },
  {
   "cell_type": "code",
   "execution_count": 41,
   "metadata": {},
   "outputs": [
    {
     "name": "stdout",
     "output_type": "stream",
     "text": [
      "0.605233\n",
      "0.603227\n",
      "0.610897\n",
      "0.622885\n",
      "0.621854\n"
     ]
    }
   ],
   "source": [
    "print((np.mean(cosine_similarity(feature_set_e,feature_set_a))))\n",
    "print((np.mean(cosine_similarity(feature_set_e,feature_set_b))))\n",
    "print((np.mean(cosine_similarity(feature_set_e,feature_set_c))))\n",
    "print((np.mean(cosine_similarity(feature_set_e,feature_set_d))))\n",
    "print((np.mean(cosine_similarity(feature_set_e,feature_set_e))))"
   ]
  },
  {
   "cell_type": "code",
   "execution_count": 27,
   "metadata": {
    "collapsed": true
   },
   "outputs": [],
   "source": [
    "hf.close()"
   ]
  },
  {
   "cell_type": "code",
   "execution_count": null,
   "metadata": {
    "collapsed": true
   },
   "outputs": [],
   "source": []
  }
 ],
 "metadata": {
  "kernelspec": {
   "display_name": "Python 3",
   "language": "python",
   "name": "python3"
  },
  "language_info": {
   "codemirror_mode": {
    "name": "ipython",
    "version": 3
   },
   "file_extension": ".py",
   "mimetype": "text/x-python",
   "name": "python",
   "nbconvert_exporter": "python",
   "pygments_lexer": "ipython3",
   "version": "3.6.1"
  }
 },
 "nbformat": 4,
 "nbformat_minor": 2
}
