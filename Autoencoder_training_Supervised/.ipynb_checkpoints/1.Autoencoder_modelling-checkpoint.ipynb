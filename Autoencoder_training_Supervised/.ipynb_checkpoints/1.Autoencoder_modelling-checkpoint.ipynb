{
 "cells": [
  {
   "cell_type": "markdown",
   "metadata": {},
   "source": [
    "### Training auto-encoder with distance lose\n",
    "#### Written by: @leopauly | cnlp@leeds.ac.uk"
   ]
  },
  {
   "cell_type": "code",
   "execution_count": 4,
   "metadata": {},
   "outputs": [
    {
     "name": "stdout",
     "output_type": "stream",
     "text": [
      "Loaded libraries...!!\n"
     ]
    }
   ],
   "source": [
    "## Imports\n",
    "from keras.models import Sequential\n",
    "import random\n",
    "import numpy as np\n",
    "from PIL import Image\n",
    "from os import listdir\n",
    "from scipy.ndimage import imread\n",
    "import keras\n",
    "import tensorflow as tf\n",
    "from tensorflow.python.client import device_lib\n",
    "from keras import backend as K\n",
    "import datetime\n",
    "import time\n",
    "import os \n",
    "from datetime import timedelta\n",
    "## Custom scripts\n",
    "import lscript as lsp\n",
    "import modelling as md\n",
    "print('Loaded libraries...!!',flush=True)\n"
   ]
  },
  {
   "cell_type": "code",
   "execution_count": 5,
   "metadata": {},
   "outputs": [
    {
     "name": "stdout",
     "output_type": "stream",
     "text": [
      "Finished defining variables..!!\n"
     ]
    }
   ],
   "source": [
    "height=112 \n",
    "width=112 \n",
    "channel=3\n",
    "cluster_length=16\n",
    "nb_classes=101\n",
    "lr_rate=.001\n",
    "next_batch_start=0\n",
    "batch_size=16\n",
    "batch_size_test=16\n",
    "total_train_videos=9991\n",
    "memory_batch_size_train=9991\n",
    "memory_batch_size_test=3329\n",
    "iterations= 30 \n",
    "custom_global_step=0\n",
    "LOG_DIR='/nobackup/leopauly/logdirk80_1_extnd'\n",
    "saved_path='/nobackup/leopauly/S2l/'\n",
    "best_validation_accuracy=0.0\n",
    "best_iteration=0\n",
    "print('Finished defining variables..!!',flush=True)"
   ]
  },
  {
   "cell_type": "code",
   "execution_count": null,
   "metadata": {
    "collapsed": true
   },
   "outputs": [],
   "source": [
    "#------------------------------------------------------------------------------------------------------------------------#\n",
    "\n",
    "## Training & testing\n",
    "def testing(iterations,loops):\n",
    "    test_score=0\n",
    "    for j in range(int(memory_batch_size_test/batch_size_test)-1):\n",
    "        test_score_ = sess.run([accuracy], feed_dict={x_image:test_images[(batch_size_test*j):(batch_size_test*(j+1))],y_true_cls:test_labels_cls[(batch_size_test*j):(batch_size_test*(j+1))],K.learning_phase(): 0 })\n",
    "        test_score=test_score+sum(test_score_)\n",
    "    \n",
    "      \n",
    "    print('Test score after iteration:',iterations,',loop:',loops,'is:',test_score/(j+1),flush=True)\n",
    "    validation_accuracy= (test_score/(j+1))*100\n",
    "    return validation_accuracy\n",
    "\n",
    "\n",
    "#------------------------------------------------------------------------------------------------------------------------#"
   ]
  },
  {
   "cell_type": "code",
   "execution_count": null,
   "metadata": {
    "collapsed": true
   },
   "outputs": [],
   "source": [
    "## Start the session with logging placement.\n",
    "init_op = tf.global_variables_initializer()\n",
    "sess = tf.Session(config=tf.ConfigProto(allow_soft_placement=True, log_device_placement=False))\n",
    "sess.run(init_op)\n",
    "\n",
    "## Restore model weights from previously saved model \n",
    "saver = tf.train.Saver()\n",
    "saver.restore(sess, os.path.join(saved_path,'activity_model.ckpt-67'))\n",
    "print(\"Model restored from file: %s\" % saved_path,flush=True)\n",
    "print ('started the session...!!',flush=True)\n",
    "\n",
    "## Loading Training data\n",
    "start_time = time.time()\n",
    "train_images, train_labels_cls, next_batch_start, _ = ucf.read_vid_and_label('./UCF101_data_preparation/train.list',memory_batch_size_train,-1,cluster_length,112,normalisation=False)\n",
    "end_time = time.time()\n",
    "time_dif = end_time - start_time\n",
    "print(\"Time usage for loading training dataset: \" + str(timedelta(seconds=int(round(time_dif)))),flush=True)\n",
    "train_labels=keras.utils.to_categorical(train_labels_cls, num_classes=nb_classes)\n",
    "\n",
    "## Loading Testing data\n",
    "test_images, test_labels_cls, next_batch_start, _ = ucf.read_vid_and_label('./UCF101_data_preparation/test.list',memory_batch_size_test,-1,16,112,normalisation=False)\n",
    "test_labels=keras.utils.to_categorical(test_labels_cls, num_classes=nb_classes)\n",
    "print('testing data loaded',flush=True)\n",
    "\n",
    "\n",
    "#------------------------------------------------------------------------------------------------------------------------#"
   ]
  },
  {
   "cell_type": "code",
   "execution_count": null,
   "metadata": {
    "collapsed": true
   },
   "outputs": [],
   "source": [
    "\n",
    "## Training\n",
    "for i in range(0,(iterations*10)):\n",
    "    print('started iteration:',i,flush=True)\n",
    "    \n",
    "    for j in range (int(memory_batch_size_train/batch_size)-1):    \n",
    "        print ('This is epoch:',j,'going to be trained',flush=True)\n",
    "        output_value = sess.run([optimizer], feed_dict={x_image:train_images[(batch_size*j):(batch_size*(j+1))],y_true:train_labels[(batch_size*j):(batch_size*(j+1))],K.learning_phase(): 1 })   \n",
    "        print ('This is epoch:',j,'trained',flush=True)\n",
    "            \n",
    "    validation_accuracy=testing(i,j)\n",
    "    print(' validation_accuracy in iteration:',i,'is:', validation_accuracy)\n",
    "    \n",
    "    if validation_accuracy > best_validation_accuracy:\n",
    "        best_validation_accuracy = validation_accuracy\n",
    "        best_iteration=i\n",
    "        saver.save(sess, os.path.join(LOG_DIR, \"activity_model.ckpt\"), global_step=i)\n",
    "        custom_global_step=custom_global_step+1   \n",
    "        print('Model saved after iteration:',best_iteration,flush=True)\n",
    "\n",
    "print('best_validation_accuracy:',best_validation_accuracy)      \n",
    "print('best_iteration:',best_iteration)\n",
    "\n",
    "sess.close()\n",
    "\n",
    "\n",
    "#------------------------------------------------------------------------------------------------------------------------#"
   ]
  }
 ],
 "metadata": {
  "kernelspec": {
   "display_name": "Python 3",
   "language": "python",
   "name": "python3"
  },
  "language_info": {
   "codemirror_mode": {
    "name": "ipython",
    "version": 3
   },
   "file_extension": ".py",
   "mimetype": "text/x-python",
   "name": "python",
   "nbconvert_exporter": "python",
   "pygments_lexer": "ipython3",
   "version": "3.6.1"
  }
 },
 "nbformat": 4,
 "nbformat_minor": 2
}
